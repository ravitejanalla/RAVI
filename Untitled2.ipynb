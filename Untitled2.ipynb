{
  "nbformat": 4,
  "nbformat_minor": 0,
  "metadata": {
    "colab": {
      "name": "Untitled2.ipynb",
      "provenance": [],
      "collapsed_sections": [],
      "authorship_tag": "ABX9TyMXJe5I9TL/pcQThrs0NTO/",
      "include_colab_link": true
    },
    "kernelspec": {
      "name": "python3",
      "display_name": "Python 3"
    },
    "language_info": {
      "name": "python"
    }
  },
  "cells": [
    {
      "cell_type": "markdown",
      "metadata": {
        "id": "view-in-github",
        "colab_type": "text"
      },
      "source": [
        "<a href=\"https://colab.research.google.com/github/ravitejanalla/RAVI/blob/master/Untitled2.ipynb\" target=\"_parent\"><img src=\"https://colab.research.google.com/assets/colab-badge.svg\" alt=\"Open In Colab\"/></a>"
      ]
    },
    {
      "cell_type": "code",
      "execution_count": 2,
      "metadata": {
        "colab": {
          "base_uri": "https://localhost:8080/"
        },
        "id": "h874FPs2VNap",
        "outputId": "35fa446e-c847-4d02-b542-fe78b642a721"
      },
      "outputs": [
        {
          "output_type": "stream",
          "name": "stdout",
          "text": [
            "p\n"
          ]
        }
      ],
      "source": [
        "a=10\n",
        "b=5.6\n",
        "c='hello'\n",
        "d='p'\n",
        "print(d)"
      ]
    },
    {
      "cell_type": "code",
      "source": [
        "a,b,c=1,2.2,\"hello\"\n",
        "print(a)\n",
        "print(b)\n",
        "print(c)\n",
        "x=y=z=\"parrot\"\n",
        "print(x)\n",
        "print(y)"
      ],
      "metadata": {
        "colab": {
          "base_uri": "https://localhost:8080/"
        },
        "id": "pBW2TqTnXPP8",
        "outputId": "abc5796c-92e8-40ff-d465-320ef4fd5301"
      },
      "execution_count": 4,
      "outputs": [
        {
          "output_type": "stream",
          "name": "stdout",
          "text": [
            "1\n",
            "2.2\n",
            "hello\n",
            "parrot\n",
            "parrot\n"
          ]
        }
      ]
    },
    {
      "cell_type": "code",
      "source": [
        "x,y=33,4\n",
        "x=x+y\n",
        "y=x-y\n",
        "x=x-y\n",
        "print(x,y)"
      ],
      "metadata": {
        "colab": {
          "base_uri": "https://localhost:8080/"
        },
        "id": "U8ZAtqE_ZFa1",
        "outputId": "51c304b3-90df-429e-d08c-5a3efaeb1e9e"
      },
      "execution_count": 5,
      "outputs": [
        {
          "output_type": "stream",
          "name": "stdout",
          "text": [
            "4 33\n"
          ]
        }
      ]
    }
  ]
}